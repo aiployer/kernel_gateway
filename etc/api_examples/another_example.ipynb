{
 "cells": [
  {
   "cell_type": "code",
   "execution_count": 3,
   "metadata": {},
   "outputs": [
    {
     "name": "stdout",
     "output_type": "stream",
     "text": [
      "{\"total_houses\": 20640}\n"
     ]
    }
   ],
   "source": [
    "import json\n",
    "\n",
    "# GET /housing_stats\n",
    "print(json.dumps({\n",
    "  'total_houses': 20640\n",
    "}))"
   ]
  }
 ],
 "metadata": {
  "kernelspec": {
   "display_name": "Python 3",
   "language": "python",
   "name": "python3"
  },
  "language_info": {
   "codemirror_mode": {
    "name": "ipython",
    "version": 2
   },
   "file_extension": ".py",
   "mimetype": "text/x-python",
   "name": "python",
   "nbconvert_exporter": "python",
   "pygments_lexer": "ipython2",
   "version": "2.7.18"
  },
  "orig_nbformat": 4,
  "vscode": {
   "interpreter": {
    "hash": "7887895c7a97866de82bf323bac143b9e91e8ba85795cd780646967eed5474f8"
   }
  }
 },
 "nbformat": 4,
 "nbformat_minor": 2
}
