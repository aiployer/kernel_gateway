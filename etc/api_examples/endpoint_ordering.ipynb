{
 "cells": [
  {
   "cell_type": "markdown",
   "metadata": {},
   "source": [
    "# API Endpoint Registration\n",
    "The cells below test ordering api endpoints. They should appear in the order they are listed below (with some out of order in areas where there are ties). The ordering for handlers is as follows:\n",
    "  1. Constant endpoints\n",
    "  1. Endpoints with path params\n",
    "    1. Ordered in descending order by the path index of the first path param"
   ]
  },
  {
   "cell_type": "code",
   "execution_count": 15,
   "metadata": {
    "collapsed": true
   },
   "outputs": [
    {
     "name": "stdout",
     "output_type": "stream",
     "text": [
      "path param index test 100\n"
     ]
    }
   ],
   "source": [
    "# GET /test/test/test/test\n",
    "print('path param index test 100')"
   ]
  },
  {
   "cell_type": "code",
   "execution_count": 10,
   "metadata": {},
   "outputs": [],
   "source": [
    "import json\n",
    "from fastapi import FastAPI, Body, HTTPException\n",
    "\n",
    "app = FastAPI()\n",
    "\n",
    "@app.post(\"/items/\")\n",
    "async def create_item(name: str = Body(...), price: float = Body(...), is_offer: bool = Body(...)):\n",
    "    if not name:\n",
    "        raise HTTPException(status_code=400, detail=\"Item name is required\")\n",
    "    # Perform some logic here\n",
    "    # ...\n",
    "    return {\"name\": name, \"price\": price, \"is_offer\": is_offer}\n",
    "\n",
    "def get_openapi_json():\n",
    "    return app.openapi()\n",
    "\n",
    "# print(json.dumps({\n",
    "#     \"headers\" : {\n",
    "#         \"Content-Type\" : \"application/json\"\n",
    "#     }\n",
    "# }))\n",
    "# print(json.dumps(get_openapi_json()))"
   ]
  },
  {
   "cell_type": "code",
   "execution_count": 11,
   "metadata": {},
   "outputs": [
    {
     "name": "stdout",
     "output_type": "stream",
     "text": [
      "{\"openapi\": \"3.0.2\", \"info\": {\"title\": \"FastAPI\", \"version\": \"0.1.0\"}, \"paths\": {\"/items/\": {\"post\": {\"summary\": \"Create Item\", \"operationId\": \"create_item_items__post\", \"requestBody\": {\"content\": {\"application/json\": {\"schema\": {\"$ref\": \"#/components/schemas/Body_create_item_items__post\"}}}, \"required\": true}, \"responses\": {\"200\": {\"description\": \"Successful Response\", \"content\": {\"application/json\": {\"schema\": {}}}}, \"422\": {\"description\": \"Validation Error\", \"content\": {\"application/json\": {\"schema\": {\"$ref\": \"#/components/schemas/HTTPValidationError\"}}}}}}}}, \"components\": {\"schemas\": {\"Body_create_item_items__post\": {\"title\": \"Body_create_item_items__post\", \"required\": [\"name\", \"price\", \"is_offer\"], \"type\": \"object\", \"properties\": {\"name\": {\"title\": \"Name\", \"type\": \"string\"}, \"price\": {\"title\": \"Price\", \"type\": \"number\"}, \"is_offer\": {\"title\": \"Is Offer\", \"type\": \"boolean\"}}}, \"HTTPValidationError\": {\"title\": \"HTTPValidationError\", \"type\": \"object\", \"properties\": {\"detail\": {\"title\": \"Detail\", \"type\": \"array\", \"items\": {\"$ref\": \"#/components/schemas/ValidationError\"}}}}, \"ValidationError\": {\"title\": \"ValidationError\", \"required\": [\"loc\", \"msg\", \"type\"], \"type\": \"object\", \"properties\": {\"loc\": {\"title\": \"Location\", \"type\": \"array\", \"items\": {\"anyOf\": [{\"type\": \"string\"}, {\"type\": \"integer\"}]}}, \"msg\": {\"title\": \"Message\", \"type\": \"string\"}, \"type\": {\"title\": \"Error Type\", \"type\": \"string\"}}}}}}\n"
     ]
    }
   ],
   "source": [
    "# GET /test2/test2\n",
    "print(json.dumps(get_openapi_json()))"
   ]
  },
  {
   "cell_type": "code",
   "execution_count": null,
   "metadata": {
    "collapsed": true
   },
   "outputs": [],
   "source": [
    "# GET /test/test/test/:id\n",
    "print('path param index test 2')"
   ]
  },
  {
   "cell_type": "code",
   "execution_count": null,
   "metadata": {
    "collapsed": true
   },
   "outputs": [],
   "source": [
    "# GET /test/test/:id\n",
    "print('path param index test 3')"
   ]
  },
  {
   "cell_type": "code",
   "execution_count": null,
   "metadata": {
    "collapsed": true
   },
   "outputs": [],
   "source": [
    "# GET /t/t/:id\n",
    "print('path param index test 3')"
   ]
  },
  {
   "cell_type": "code",
   "execution_count": null,
   "metadata": {
    "collapsed": true
   },
   "outputs": [],
   "source": [
    "# GET /test/:id\n",
    "print('path param index test 4')"
   ]
  },
  {
   "cell_type": "code",
   "execution_count": null,
   "metadata": {
    "collapsed": true
   },
   "outputs": [],
   "source": [
    "# GET /t/:id\n",
    "print('path param index test 4')"
   ]
  },
  {
   "cell_type": "code",
   "execution_count": null,
   "metadata": {
    "collapsed": true
   },
   "outputs": [],
   "source": [
    "# GET /:id\n",
    "print('path param index test 5')"
   ]
  }
 ],
 "metadata": {
  "kernelspec": {
   "display_name": "kernel-gateway-dev",
   "language": "python",
   "name": "python3"
  },
  "language_info": {
   "codemirror_mode": {
    "name": "ipython",
    "version": 3
   },
   "file_extension": ".py",
   "mimetype": "text/x-python",
   "name": "python",
   "nbconvert_exporter": "python",
   "pygments_lexer": "ipython3",
   "version": "3.11.0"
  },
  "vscode": {
   "interpreter": {
    "hash": "cc8e14c9411e7541618197c5aa2e558cd9f228ca3712088a990bf66f21ecb786"
   }
  }
 },
 "nbformat": 4,
 "nbformat_minor": 0
}
